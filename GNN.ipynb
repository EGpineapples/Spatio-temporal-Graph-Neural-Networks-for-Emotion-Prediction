{
 "cells": [
  {
   "cell_type": "code",
   "execution_count": 25,
   "metadata": {},
   "outputs": [],
   "source": [
    "import os\n",
    "import numpy as np\n",
    "import argparse\n",
    "from itertools import product\n",
    "\n",
    "# Constants definitions\n",
    "MAX_SIMU_TOKENS = 5 \n",
    "\n",
    "class PitchToken:\n",
    "    SOS = 0  # Start of sequence, example value\n",
    "\n",
    "class DurationToken:\n",
    "    SOS = 0  # Start of sequence, example value\n",
    "\n",
    "N_DISCRETE_VALUES = 128  \n",
    "N_SAMPLES = 100  \n",
    "N_TIMESTEPS = 100  \n",
    "\n",
    "def generate_sample_data(num_samples, n_timesteps):\n",
    "    np.random.seed(42)  \n",
    "    emotions = np.random.randint(0, N_DISCRETE_VALUES, (num_samples, n_timesteps))\n",
    "    locations = np.random.randint(0, N_DISCRETE_VALUES, (num_samples, n_timesteps))\n",
    "    activities = np.random.randint(0, N_DISCRETE_VALUES, (num_samples, n_timesteps))\n",
    "    modes = np.random.randint(0, N_DISCRETE_VALUES, (num_samples, n_timesteps))\n",
    "    return emotions, locations, activities, modes\n",
    "\n",
    "def preprocess_data(data, n_bars, resolution):\n",
    "    \"\"\"\n",
    "    Preprocess the sample data to create content and structure tensors.\n",
    "    \"\"\"\n",
    "    num_samples, n_timesteps = data[0].shape\n",
    "    length = n_timesteps\n",
    "\n",
    "    # Initialize content and structure tensors\n",
    "    c_tensor = np.zeros((num_samples, length, MAX_SIMU_TOKENS, 2), np.int16)\n",
    "    s_tensor = np.zeros((num_samples, length), dtype=bool)\n",
    "\n",
    "    for i, sample in enumerate(zip(*data)):\n",
    "        for t in range(length):\n",
    "            c_tensor[i, t, 0, 0] = PitchToken.SOS  # Start of sequence\n",
    "            c_tensor[i, t, 1, 0] = sample[0][t]  # Emotions as pitch\n",
    "            c_tensor[i, t, 2, 0] = sample[1][t]  # Locations as pitch\n",
    "            c_tensor[i, t, 3, 0] = sample[2][t]  # Activities as pitch\n",
    "            c_tensor[i, t, 4, 0] = sample[3][t]  # Modes as pitch\n",
    "            c_tensor[i, t, :, 1] = DurationToken.SOS  # Using SOS token for duration for simplicity\n",
    "            s_tensor[i, t] = True  # Example, setting structure tensor\n",
    "\n",
    "    # Apply sliding window to generate sequences\n",
    "    sequences = []\n",
    "    for i in range(0, length - n_bars * resolution + 1, resolution):\n",
    "        seq_c_tensor = c_tensor[:, i:i + n_bars * resolution, :, :]\n",
    "        seq_s_tensor = s_tensor[:, i:i + n_bars * resolution]\n",
    "        sequences.append((seq_c_tensor, seq_s_tensor))\n",
    "        print(f\"seq_c_tensor shape: {seq_c_tensor.shape}, seq_s_tensor shape: {seq_s_tensor.shape}\")\n",
    "    return sequences\n",
    "\n",
    "def save_preprocessed_data(filepath, sequences):\n",
    "    \"\"\"\n",
    "    Save the preprocessed data sequences to a file.\n",
    "    Each sequence is saved as a separate item in the npz file.\n",
    "    \"\"\"\n",
    "    # Create a dict where key is the sequence index and value is the sequence data\n",
    "    seq_dict = {}\n",
    "    for i, (seq_c_tensor, seq_s_tensor) in enumerate(sequences):\n",
    "        seq_dict[f'seq_c_{i}'] = seq_c_tensor\n",
    "        seq_dict[f'seq_s_{i}'] = seq_s_tensor\n",
    "\n",
    "    # Save each sequence tensor as a separate item in the npz file\n",
    "    np.savez(filepath, **seq_dict)\n",
    "\n"
   ]
  },
  {
   "cell_type": "code",
   "execution_count": 26,
   "metadata": {},
   "outputs": [
    {
     "name": "stdout",
     "output_type": "stream",
     "text": [
      "seq_c_tensor shape: (100, 16, 5, 2), seq_s_tensor shape: (100, 16)\n",
      "seq_c_tensor shape: (100, 16, 5, 2), seq_s_tensor shape: (100, 16)\n",
      "seq_c_tensor shape: (100, 16, 5, 2), seq_s_tensor shape: (100, 16)\n",
      "seq_c_tensor shape: (100, 16, 5, 2), seq_s_tensor shape: (100, 16)\n",
      "seq_c_tensor shape: (100, 16, 5, 2), seq_s_tensor shape: (100, 16)\n",
      "seq_c_tensor shape: (100, 16, 5, 2), seq_s_tensor shape: (100, 16)\n",
      "seq_c_tensor shape: (100, 16, 5, 2), seq_s_tensor shape: (100, 16)\n",
      "seq_c_tensor shape: (100, 16, 5, 2), seq_s_tensor shape: (100, 16)\n",
      "seq_c_tensor shape: (100, 16, 5, 2), seq_s_tensor shape: (100, 16)\n",
      "seq_c_tensor shape: (100, 16, 5, 2), seq_s_tensor shape: (100, 16)\n",
      "seq_c_tensor shape: (100, 16, 5, 2), seq_s_tensor shape: (100, 16)\n"
     ]
    }
   ],
   "source": [
    "args = argparse.Namespace(n_bars=2, resolution=8)\n",
    "\n",
    "# Generate sample data\n",
    "sample_data = generate_sample_data(N_SAMPLES, N_TIMESTEPS)\n",
    "\n",
    "# Preprocess the data\n",
    "sequences = preprocess_data(sample_data, args.n_bars, args.resolution)\n",
    "\n",
    "# Save the preprocessed data\n",
    "save_preprocessed_data(\"preprocessed_data.npz\", sequences)"
   ]
  }
 ],
 "metadata": {
  "kernelspec": {
   "display_name": "Python 3",
   "language": "python",
   "name": "python3"
  },
  "language_info": {
   "codemirror_mode": {
    "name": "ipython",
    "version": 3
   },
   "file_extension": ".py",
   "mimetype": "text/x-python",
   "name": "python",
   "nbconvert_exporter": "python",
   "pygments_lexer": "ipython3",
   "version": "3.11.9"
  }
 },
 "nbformat": 4,
 "nbformat_minor": 2
}
